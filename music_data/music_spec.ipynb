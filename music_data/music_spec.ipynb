{
 "cells": [
  {
   "cell_type": "code",
   "execution_count": null,
   "id": "3517d7af",
   "metadata": {
    "scrolled": true
   },
   "outputs": [],
   "source": [
    "import librosa\n",
    "# 畫音訊陣列\n",
    "import matplotlib.pyplot as plt\n",
    "# 不要產生譜圖\n",
    "# matplotlib.use('Agg')\n",
    "import librosa.display\n",
    "import pylab as pl\n",
    "import sklearn\n",
    "import numpy as np\n",
    "import os\n",
    "# seaborn make our plots prettier\n",
    "import seaborn\n",
    "seaborn.set(style='ticks')\n",
    "# import the audio playback widgt\n",
    "from IPython.display import Audio\n",
    "import scipy\n",
    "import mir_eval"
   ]
  },
  {
   "cell_type": "markdown",
   "id": "34faf93e",
   "metadata": {},
   "source": [
    "### 動態時間扭曲 DTW ( Dynamic Time Warping )"
   ]
  },
  {
   "cell_type": "code",
   "execution_count": null,
   "id": "17a8f41d",
   "metadata": {},
   "outputs": [],
   "source": [
    "path='/Users/student/Librosa_test/party/BLACKPINK - FOREVER YOUNG (Color Coded Lyrics EngRomHan가사 ).wav'\n",
    "y, sr = librosa.load(path, sr=44100 )\n",
    "# 取得歌曲總時長\n",
    "total_time = librosa.get_duration(y=y, sr=sr)\n",
    "# 設定歌曲 ( sample ) 時長 3 分鐘\n",
    "sample_time = 180\n",
    "over_time = total_time - sample_time\n",
    "# 設定歌曲開始時間\n",
    "offset = ( over_time / 2 )\n",
    "# 歌曲讀取時長\n",
    "duration = sample_time\n",
    "# 再次讀取音檔，並設定讀取時間為 3 分鐘\n",
    "y, sr = librosa.load(path, sr=44100, mono=False, offset=offset, duration=sample_time )\n",
    "\n",
    "print(type(y), type(sr))\n",
    "print(y.shape, sr)\n",
    "\n",
    "y_harmonic, y_percussive = librosa.effects.hpss(y)\n",
    "\n",
    "Audio(data=y, rate=sr)\n"
   ]
  },
  {
   "cell_type": "code",
   "execution_count": null,
   "id": "66a5b282",
   "metadata": {},
   "outputs": [],
   "source": [
    "Audio(data=y_harmonic, rate=sr)"
   ]
  },
  {
   "cell_type": "code",
   "execution_count": null,
   "id": "415e29a7",
   "metadata": {},
   "outputs": [],
   "source": [
    "Audio(data=y_percussive, rate=sr)"
   ]
  },
  {
   "cell_type": "markdown",
   "id": "efdd490c",
   "metadata": {},
   "source": [
    "### Onset and beats 偵測歌曲速度"
   ]
  },
  {
   "cell_type": "code",
   "execution_count": null,
   "id": "23fad640",
   "metadata": {},
   "outputs": [],
   "source": [
    "path='/Users/student/Librosa_test/party/BLACKPINK - FOREVER YOUNG (Color Coded Lyrics EngRomHan가사 ).wav'\n",
    "y, sr = librosa.load(path, sr=44100 )\n",
    "onset_envelope = librosa.onset.onset_strength(y, sr)"
   ]
  },
  {
   "cell_type": "code",
   "execution_count": null,
   "id": "b16458e1",
   "metadata": {},
   "outputs": [],
   "source": [
    "onsets = librosa.onset.onset_detect(onset_envelope=onset_envelope)"
   ]
  },
  {
   "cell_type": "code",
   "execution_count": null,
   "id": "3b99d31d",
   "metadata": {},
   "outputs": [],
   "source": [
    "plt.subplot(2, 1, 1)\n",
    "plt.plot(onset_envelope, label='Onset strength')\n",
    "plt.vlines(onsets, 0, onset_envelope.max(), color='r', alpha=0.25, label='Onsets')\n",
    "plt.xticks([]), plt.yticks([])\n",
    "plt.legend(frameon=True)\n",
    "plt.axis('tight')\n",
    "\n",
    "plt.subplot(2, 1, 2)\n",
    "librosa.display.waveshow(y, sr)"
   ]
  },
  {
   "cell_type": "code",
   "execution_count": null,
   "id": "dc9149f1",
   "metadata": {},
   "outputs": [],
   "source": [
    "tempo, beats = librosa.beat.beat_track(onset_envelope=onset_envelope)\n",
    "print(tempo)"
   ]
  },
  {
   "cell_type": "code",
   "execution_count": null,
   "id": "b84556bf",
   "metadata": {},
   "outputs": [],
   "source": [
    "plt.plot(onset_envelope, label='Onset strength')\n",
    "plt.vlines(onsets, 0, onset_envelope.max(), color='r', alpha=0.25, label='Onsets')\n",
    "plt.xticks([]), plt.yticks([])\n",
    "plt.legend(frameon=True)\n",
    "plt.axis('tight')"
   ]
  },
  {
   "cell_type": "code",
   "execution_count": null,
   "id": "142de775",
   "metadata": {},
   "outputs": [],
   "source": [
    "beat_times = librosa.frames_to_time(beats)"
   ]
  },
  {
   "cell_type": "code",
   "execution_count": null,
   "id": "d0982445",
   "metadata": {},
   "outputs": [],
   "source": [
    "y_click = mir_eval.sonify.clicks(beat_times, sr, length=len(y))"
   ]
  },
  {
   "cell_type": "code",
   "execution_count": null,
   "id": "34c8cfe7",
   "metadata": {},
   "outputs": [],
   "source": [
    "Audio(data=y + y_click, rate=sr)"
   ]
  },
  {
   "cell_type": "code",
   "execution_count": null,
   "id": "207b09b5",
   "metadata": {},
   "outputs": [],
   "source": []
  },
  {
   "cell_type": "code",
   "execution_count": null,
   "id": "c63ccda3",
   "metadata": {},
   "outputs": [],
   "source": []
  },
  {
   "cell_type": "code",
   "execution_count": null,
   "id": "8d8de60e",
   "metadata": {},
   "outputs": [],
   "source": [
    "zero_crossings = librosa.zero_crossings(x[n0:n1], pad=False)\n",
    "print(sum(zero_crossings))\n",
    "\n",
    "y, sr = librosa.load('/Users/student/Librosa_test/party/BLACKPINK - FOREVER YOUNG (Color Coded Lyrics EngRomHan가사 ).wav')\n",
    "librosa.feature.zero_crossing_rate(y)"
   ]
  },
  {
   "cell_type": "code",
   "execution_count": null,
   "id": "e38f6c6b",
   "metadata": {
    "scrolled": true
   },
   "outputs": [],
   "source": [
    "'''過零率'''\n",
    "\n",
    "# 讀取音檔\n",
    "path='/Users/student/Librosa_test/party/BLACKPINK - FOREVER YOUNG (Color Coded Lyrics EngRomHan가사 ).wav'\n",
    "y, sr = librosa.load(path, sr=44100 )\n",
    "# 取得歌曲總時長\n",
    "total_time = librosa.get_duration(y=y, sr=sr)\n",
    "# 設定歌曲 ( sample ) 時長 3 分鐘\n",
    "sample_time = 180\n",
    "over_time = total_time - sample_time\n",
    "# 設定歌曲開始時間\n",
    "offset = ( over_time / 2 )\n",
    "# 歌曲讀取時長\n",
    "duration = sample_time\n",
    "# 再次讀取音檔，並設定讀取時間為 3 分鐘\n",
    "y, sr = librosa.load(path, sr=44100, mono=False, offset=offset, duration=sample_time )\n",
    "\n",
    "librosa.get_duration(y=y, sr=sr)\n",
    "\n",
    "\n",
    "\n",
    "\n",
    "# # 畫頻譜圖\n",
    "# plt.figure(figsize=(14, 5))\n",
    "# librosa.display.waveshow(y, sr=sr)  # x:時間, sr:取樣率\n",
    "# plt.title('blackpink waveform')\n",
    "# plt.xlabel(\"Time\")\n",
    "# plt.ylabel(\"Amplitude\")\n",
    "# plt.show()\n",
    "\n",
    "\n",
    "\n",
    "\n",
    "\n",
    "########################\n",
    "# fft -> spectrum\n",
    "# fft = np.fft.fft(y)\n",
    "# magnitude = np.abs(fft)\n",
    "# frequency = np.arange(0, sr, len(magnitude))\n",
    "# plt.plot(frequency, magnitude)\n",
    "# plt.xlabel(\"Frequency\")\n",
    "# plt.ylabel(\"Magnitude\")\n",
    "# plt.show()\n",
    "\n",
    "\n",
    "# # stft -> spectrogram\n",
    "# n_fft = 2048\n",
    "# hop_length = 512\n",
    "# stft = librosa.core.stft(y, hop_length=hop_length, n_fft=n_fft)\n",
    "# spectrogram = np.abs(stft)\n",
    "# librosa.display.specshow(spectrogram, sr=sr, hop_length=hop_length)\n",
    "# plt.xlabel(\"Time\")\n",
    "# plt.ylabel(\"Frequency\")\n",
    "# plt.colorbar()\n",
    "# plt.show()\n",
    "\n",
    "# MFCCs\n",
    "######################################\n",
    "\n",
    "\n",
    "\n",
    "# n0 = 9000\n",
    "# n1 = 9100\n",
    "# plt.figure(figsize=(14, 5))\n",
    "# plt.plot(x[n0:n1])\n",
    "# plt.grid()\n",
    "\n"
   ]
  },
  {
   "cell_type": "code",
   "execution_count": null,
   "id": "41d4ccc4",
   "metadata": {
    "scrolled": true
   },
   "outputs": [],
   "source": [
    "'''光譜質心'''\n",
    "x, sr = librosa.load('/Users/student/Librosa_test/party/BLACKPINK - FOREVER YOUNG (Color Coded Lyrics EngRomHan가사 ).wav')\n",
    "spectral_centroids = librosa.feature.spectral_centroid(x, sr=sr)[0]\n",
    "spectral_centroids.shape\n",
    "(775,)\n",
    "\n",
    "# Computing the time variable for visualization\n",
    "frames = range(len(spectral_centroids))\n",
    "t = librosa.frames_to_time(frames)\n",
    "\n",
    "# Normalising the spectral centroid for visualisation\n",
    "\n",
    "\n",
    "def normalize(x, axis=0):\n",
    "    return sklearn.preprocessing.minmax_scale(x, axis=axis)\n",
    "\n",
    "\n",
    "# Plotting the Spectral Centroid along the waveform\n",
    "librosa.display.waveshow(x, sr=sr, alpha=0.4)\n",
    "plt.plot(t, normalize(spectral_centroids), color='r')"
   ]
  },
  {
   "cell_type": "code",
   "execution_count": null,
   "id": "048c1348",
   "metadata": {},
   "outputs": [],
   "source": [
    "'''光譜衰減'''\n",
    "spectral_rolloff = librosa.feature.spectral_rolloff(x+0.01, sr=sr)[0]\n",
    "librosa.display.waveshow(x, sr=sr, alpha=0.4)\n",
    "plt.plot(t, normalize(spectral_rolloff), color='r')"
   ]
  },
  {
   "cell_type": "code",
   "execution_count": null,
   "id": "5fee1c71",
   "metadata": {},
   "outputs": [],
   "source": [
    "'''梅爾倒頻譜係數'''\n",
    "x, fs = librosa.load('/Users/student/Librosa_test/party/BLACKPINK - FOREVER YOUNG (Color Coded Lyrics EngRomHan가사 ).wav')\n",
    "librosa.display.waveshow(x, sr=sr)\n",
    "# 計算超過 97 帪的 20 個 MFCC\n",
    "mfccs = librosa.feature.mfcc(x, sr=fs)\n",
    "print(mfccs.shape)\n",
    "(20, 97)\n",
    "# Displaying  the MFCCs:\n",
    "librosa.display.specshow(mfccs, sr=sr, x_axis='time')\n",
    "\n",
    "# 特徵縮放，使每個單位皆有零均值和單位方差\n",
    "mfccs = sklearn.preprocessing.scale(mfccs, axis=1)\n",
    "print(mfccs.mean(axis=1))\n",
    "print(mfccs.var(axis=1))\n",
    "librosa.display.specshow(mfccs, sr=sr, x_axis='time')"
   ]
  },
  {
   "cell_type": "code",
   "execution_count": null,
   "id": "8756a36b",
   "metadata": {},
   "outputs": [],
   "source": [
    "'''色度頻率'''\n",
    "# Loadign the file\n",
    "x, sr = librosa.load('/Users/student/Librosa_test/party/BLACKPINK - FOREVER YOUNG (Color Coded Lyrics EngRomHan가사 ).wav')\n",
    "hop_length = 512\n",
    "chromagram = librosa.feature.chroma_stft(x, sr=sr, hop_length=hop_length)\n",
    "plt.figure(figsize=(15, 5))\n",
    "librosa.display.specshow(chromagram, x_axis='time',\n",
    "                         y_axis='chroma', hop_length=hop_length, cmap='coolwarm')"
   ]
  },
  {
   "cell_type": "code",
   "execution_count": null,
   "id": "4e62ad32",
   "metadata": {},
   "outputs": [],
   "source": []
  }
 ],
 "metadata": {
  "kernelspec": {
   "display_name": "Python 3 (ipykernel)",
   "language": "python",
   "name": "python3"
  },
  "language_info": {
   "codemirror_mode": {
    "name": "ipython",
    "version": 3
   },
   "file_extension": ".py",
   "mimetype": "text/x-python",
   "name": "python",
   "nbconvert_exporter": "python",
   "pygments_lexer": "ipython3",
   "version": "3.9.12"
  }
 },
 "nbformat": 4,
 "nbformat_minor": 5
}
